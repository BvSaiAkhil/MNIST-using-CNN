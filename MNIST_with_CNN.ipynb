{
  "nbformat": 4,
  "nbformat_minor": 0,
  "metadata": {
    "colab": {
      "name": "MNIST with CNN.ipynb",
      "version": "0.3.2",
      "provenance": []
    },
    "kernelspec": {
      "name": "python3",
      "display_name": "Python 3"
    }
  },
  "cells": [
    {
      "cell_type": "markdown",
      "metadata": {
        "id": "-AQCBQmR8KHB",
        "colab_type": "text"
      },
      "source": [
        ""
      ]
    },
    {
      "cell_type": "code",
      "metadata": {
        "id": "5NSv_1yW08IJ",
        "colab_type": "code",
        "colab": {}
      },
      "source": [
        "import tensorflow as tf"
      ],
      "execution_count": 0,
      "outputs": []
    },
    {
      "cell_type": "code",
      "metadata": {
        "id": "4jw0iKKs1_AR",
        "colab_type": "code",
        "colab": {}
      },
      "source": [
        "from tensorflow.examples.tutorials.mnist import input_data"
      ],
      "execution_count": 0,
      "outputs": []
    },
    {
      "cell_type": "code",
      "metadata": {
        "id": "u3VjNhtd2Bii",
        "colab_type": "code",
        "colab": {
          "base_uri": "https://localhost:8080/",
          "height": 547
        },
        "outputId": "1c9f0961-975c-4a4e-b5c4-7b32dc433658"
      },
      "source": [
        "mnist = input_data.read_data_sets(\"MNIST_data/\",one_hot=True)"
      ],
      "execution_count": 3,
      "outputs": [
        {
          "output_type": "stream",
          "text": [
            "WARNING: Logging before flag parsing goes to stderr.\n",
            "W0806 16:52:27.359189 140243988400000 deprecation.py:323] From <ipython-input-3-758d29429358>:1: read_data_sets (from tensorflow.contrib.learn.python.learn.datasets.mnist) is deprecated and will be removed in a future version.\n",
            "Instructions for updating:\n",
            "Please use alternatives such as official/mnist/dataset.py from tensorflow/models.\n",
            "W0806 16:52:27.361737 140243988400000 deprecation.py:323] From /usr/local/lib/python3.6/dist-packages/tensorflow/contrib/learn/python/learn/datasets/mnist.py:260: maybe_download (from tensorflow.contrib.learn.python.learn.datasets.base) is deprecated and will be removed in a future version.\n",
            "Instructions for updating:\n",
            "Please write your own downloading logic.\n",
            "W0806 16:52:27.365468 140243988400000 deprecation.py:323] From /usr/local/lib/python3.6/dist-packages/tensorflow/contrib/learn/python/learn/datasets/base.py:252: _internal_retry.<locals>.wrap.<locals>.wrapped_fn (from tensorflow.contrib.learn.python.learn.datasets.base) is deprecated and will be removed in a future version.\n",
            "Instructions for updating:\n",
            "Please use urllib or similar directly.\n",
            "W0806 16:52:27.481358 140243988400000 deprecation.py:323] From /usr/local/lib/python3.6/dist-packages/tensorflow/contrib/learn/python/learn/datasets/mnist.py:262: extract_images (from tensorflow.contrib.learn.python.learn.datasets.mnist) is deprecated and will be removed in a future version.\n",
            "Instructions for updating:\n",
            "Please use tf.data to implement this functionality.\n"
          ],
          "name": "stderr"
        },
        {
          "output_type": "stream",
          "text": [
            "Successfully downloaded train-images-idx3-ubyte.gz 9912422 bytes.\n",
            "Extracting MNIST_data/train-images-idx3-ubyte.gz\n"
          ],
          "name": "stdout"
        },
        {
          "output_type": "stream",
          "text": [
            "W0806 16:52:27.794803 140243988400000 deprecation.py:323] From /usr/local/lib/python3.6/dist-packages/tensorflow/contrib/learn/python/learn/datasets/mnist.py:267: extract_labels (from tensorflow.contrib.learn.python.learn.datasets.mnist) is deprecated and will be removed in a future version.\n",
            "Instructions for updating:\n",
            "Please use tf.data to implement this functionality.\n",
            "W0806 16:52:27.798851 140243988400000 deprecation.py:323] From /usr/local/lib/python3.6/dist-packages/tensorflow/contrib/learn/python/learn/datasets/mnist.py:110: dense_to_one_hot (from tensorflow.contrib.learn.python.learn.datasets.mnist) is deprecated and will be removed in a future version.\n",
            "Instructions for updating:\n",
            "Please use tf.one_hot on tensors.\n",
            "W0806 16:52:27.893029 140243988400000 deprecation.py:323] From /usr/local/lib/python3.6/dist-packages/tensorflow/contrib/learn/python/learn/datasets/mnist.py:290: DataSet.__init__ (from tensorflow.contrib.learn.python.learn.datasets.mnist) is deprecated and will be removed in a future version.\n",
            "Instructions for updating:\n",
            "Please use alternatives such as official/mnist/dataset.py from tensorflow/models.\n"
          ],
          "name": "stderr"
        },
        {
          "output_type": "stream",
          "text": [
            "Successfully downloaded train-labels-idx1-ubyte.gz 28881 bytes.\n",
            "Extracting MNIST_data/train-labels-idx1-ubyte.gz\n",
            "Successfully downloaded t10k-images-idx3-ubyte.gz 1648877 bytes.\n",
            "Extracting MNIST_data/t10k-images-idx3-ubyte.gz\n",
            "Successfully downloaded t10k-labels-idx1-ubyte.gz 4542 bytes.\n",
            "Extracting MNIST_data/t10k-labels-idx1-ubyte.gz\n"
          ],
          "name": "stdout"
        }
      ]
    },
    {
      "cell_type": "code",
      "metadata": {
        "id": "roP2oyIg2Di7",
        "colab_type": "code",
        "colab": {}
      },
      "source": [
        "def init_weights(shape):\n",
        "    init_random_dist = tf.truncated_normal(shape, stddev=0.1)\n",
        "    return tf.Variable(init_random_dist)"
      ],
      "execution_count": 0,
      "outputs": []
    },
    {
      "cell_type": "code",
      "metadata": {
        "id": "10CqcI7V2G6O",
        "colab_type": "code",
        "colab": {}
      },
      "source": [
        "def init_bias(shape):\n",
        "    init_bias_vals = tf.constant(0.1, shape=shape)\n",
        "    return tf.Variable(init_bias_vals)"
      ],
      "execution_count": 0,
      "outputs": []
    },
    {
      "cell_type": "code",
      "metadata": {
        "id": "mCFj51bA2IZl",
        "colab_type": "code",
        "colab": {}
      },
      "source": [
        "def conv2d(x, W):\n",
        "    return tf.nn.conv2d(x, W, strides=[1, 1, 1, 1], padding='SAME')"
      ],
      "execution_count": 0,
      "outputs": []
    },
    {
      "cell_type": "code",
      "metadata": {
        "id": "HWRg8khS2KCh",
        "colab_type": "code",
        "colab": {}
      },
      "source": [
        "def max_pool_2by2(x):\n",
        "    return tf.nn.max_pool(x, ksize=[1, 2, 2, 1],\n",
        "                          strides=[1, 2, 2, 1], padding='SAME')"
      ],
      "execution_count": 0,
      "outputs": []
    },
    {
      "cell_type": "code",
      "metadata": {
        "id": "oziGjPZv2Lx9",
        "colab_type": "code",
        "colab": {}
      },
      "source": [
        "def convolutional_layer(input_x, shape):\n",
        "    W = init_weights(shape)\n",
        "    b = init_bias([shape[3]])\n",
        "    return tf.nn.relu(conv2d(input_x, W) + b)"
      ],
      "execution_count": 0,
      "outputs": []
    },
    {
      "cell_type": "code",
      "metadata": {
        "id": "_TaiJ_SY2Nuj",
        "colab_type": "code",
        "colab": {}
      },
      "source": [
        "def normal_full_layer(input_layer, size):\n",
        "    input_size = int(input_layer.get_shape()[1])\n",
        "    W = init_weights([input_size, size])\n",
        "    b = init_bias([size])\n",
        "    return tf.matmul(input_layer, W) + b"
      ],
      "execution_count": 0,
      "outputs": []
    },
    {
      "cell_type": "code",
      "metadata": {
        "id": "rL0ZU3vr2PWo",
        "colab_type": "code",
        "colab": {}
      },
      "source": [
        "x = tf.placeholder(tf.float32,shape=[None,784])"
      ],
      "execution_count": 0,
      "outputs": []
    },
    {
      "cell_type": "code",
      "metadata": {
        "id": "7N-Kf-aN2RVt",
        "colab_type": "code",
        "colab": {}
      },
      "source": [
        "y_true = tf.placeholder(tf.float32,shape=[None,10])"
      ],
      "execution_count": 0,
      "outputs": []
    },
    {
      "cell_type": "code",
      "metadata": {
        "id": "kF1aD-ot2S4a",
        "colab_type": "code",
        "colab": {}
      },
      "source": [
        "x_image = tf.reshape(x,[-1,28,28,1])"
      ],
      "execution_count": 0,
      "outputs": []
    },
    {
      "cell_type": "code",
      "metadata": {
        "id": "zGkIxruP2Uu0",
        "colab_type": "code",
        "colab": {}
      },
      "source": [
        "convo_1 = convolutional_layer(x_image,shape=[6,6,1,32])\n",
        "convo_1_pooling = max_pool_2by2(convo_1)"
      ],
      "execution_count": 0,
      "outputs": []
    },
    {
      "cell_type": "code",
      "metadata": {
        "id": "a5BKm9RG2WSj",
        "colab_type": "code",
        "colab": {}
      },
      "source": [
        "convo_2 = convolutional_layer(convo_1_pooling,shape=[6,6,32,64])\n",
        "convo_2_pooling = max_pool_2by2(convo_2)"
      ],
      "execution_count": 0,
      "outputs": []
    },
    {
      "cell_type": "code",
      "metadata": {
        "id": "nTwj_3re2qy-",
        "colab_type": "code",
        "colab": {}
      },
      "source": [
        "convo_2_flat = tf.reshape(convo_2_pooling,[-1,7*7*64])\n",
        "full_layer_one = tf.nn.relu(normal_full_layer(convo_2_flat,1024))"
      ],
      "execution_count": 0,
      "outputs": []
    },
    {
      "cell_type": "code",
      "metadata": {
        "id": "WgSby70A20b4",
        "colab_type": "code",
        "colab": {
          "base_uri": "https://localhost:8080/",
          "height": 88
        },
        "outputId": "60c33b4c-a77c-42db-902d-d6e4f94d6419"
      },
      "source": [
        "hold_prob = tf.placeholder(tf.float32)\n",
        "full_one_dropout = tf.nn.dropout(full_layer_one,keep_prob=hold_prob)"
      ],
      "execution_count": 16,
      "outputs": [
        {
          "output_type": "stream",
          "text": [
            "W0806 16:55:52.539342 140243988400000 deprecation.py:506] From <ipython-input-16-ca8697f5d556>:2: calling dropout (from tensorflow.python.ops.nn_ops) with keep_prob is deprecated and will be removed in a future version.\n",
            "Instructions for updating:\n",
            "Please use `rate` instead of `keep_prob`. Rate should be set to `rate = 1 - keep_prob`.\n"
          ],
          "name": "stderr"
        }
      ]
    },
    {
      "cell_type": "code",
      "metadata": {
        "id": "wRrQjnED21o2",
        "colab_type": "code",
        "colab": {}
      },
      "source": [
        "y_pred = normal_full_layer(full_one_dropout,10)"
      ],
      "execution_count": 0,
      "outputs": []
    },
    {
      "cell_type": "code",
      "metadata": {
        "id": "wxQJZOXx2563",
        "colab_type": "code",
        "colab": {
          "base_uri": "https://localhost:8080/",
          "height": 173
        },
        "outputId": "451570dd-75e4-47a4-c15a-a73bd569aa55"
      },
      "source": [
        "cross_entropy = tf.reduce_mean(tf.nn.softmax_cross_entropy_with_logits(labels=y_true,logits=y_pred))"
      ],
      "execution_count": 18,
      "outputs": [
        {
          "output_type": "stream",
          "text": [
            "W0806 16:56:21.909247 140243988400000 deprecation.py:323] From <ipython-input-18-e0c07892321c>:1: softmax_cross_entropy_with_logits (from tensorflow.python.ops.nn_ops) is deprecated and will be removed in a future version.\n",
            "Instructions for updating:\n",
            "\n",
            "Future major versions of TensorFlow will allow gradients to flow\n",
            "into the labels input on backprop by default.\n",
            "\n",
            "See `tf.nn.softmax_cross_entropy_with_logits_v2`.\n",
            "\n"
          ],
          "name": "stderr"
        }
      ]
    },
    {
      "cell_type": "code",
      "metadata": {
        "id": "AJQ1rGOQ280O",
        "colab_type": "code",
        "colab": {}
      },
      "source": [
        "optimizer = tf.train.AdamOptimizer(learning_rate=0.0001)\n",
        "train = optimizer.minimize(cross_entropy)"
      ],
      "execution_count": 0,
      "outputs": []
    },
    {
      "cell_type": "code",
      "metadata": {
        "id": "E-b_l8NR3Fss",
        "colab_type": "code",
        "colab": {}
      },
      "source": [
        "init = tf.global_variables_initializer()"
      ],
      "execution_count": 0,
      "outputs": []
    },
    {
      "cell_type": "code",
      "metadata": {
        "id": "EqKVIkU13Hiq",
        "colab_type": "code",
        "colab": {
          "base_uri": "https://localhost:8080/",
          "height": 1000
        },
        "outputId": "824463bb-c5ec-4706-8be9-81d1f0bf43c6"
      },
      "source": [
        "steps = 5000\n",
        "\n",
        "with tf.Session() as sess:\n",
        "    \n",
        "    sess.run(init)\n",
        "    \n",
        "    for i in range(steps):\n",
        "        \n",
        "        batch_x , batch_y = mnist.train.next_batch(50)\n",
        "        \n",
        "        sess.run(train,feed_dict={x:batch_x,y_true:batch_y,hold_prob:0.5})\n",
        "        \n",
        "        # PRINT OUT A MESSAGE EVERY 100 STEPS\n",
        "        if i%100 == 0:\n",
        "            \n",
        "            print('Currently on step {}'.format(i))\n",
        "            print('Accuracy is:')\n",
        "            # Test the Train Model\n",
        "            matches = tf.equal(tf.argmax(y_pred,1),tf.argmax(y_true,1))\n",
        "\n",
        "            acc = tf.reduce_mean(tf.cast(matches,tf.float32))\n",
        "\n",
        "            print(sess.run(acc,feed_dict={x:mnist.test.images,y_true:mnist.test.labels,hold_prob:1.0}))\n",
        "            print('\\n')"
      ],
      "execution_count": 22,
      "outputs": [
        {
          "output_type": "stream",
          "text": [
            "Currently on step 0\n",
            "Accuracy is:\n",
            "0.1164\n",
            "\n",
            "\n",
            "Currently on step 100\n",
            "Accuracy is:\n",
            "0.8554\n",
            "\n",
            "\n",
            "Currently on step 200\n",
            "Accuracy is:\n",
            "0.9085\n",
            "\n",
            "\n",
            "Currently on step 300\n",
            "Accuracy is:\n",
            "0.9285\n",
            "\n",
            "\n",
            "Currently on step 400\n",
            "Accuracy is:\n",
            "0.9431\n",
            "\n",
            "\n",
            "Currently on step 500\n",
            "Accuracy is:\n",
            "0.9473\n",
            "\n",
            "\n",
            "Currently on step 600\n",
            "Accuracy is:\n",
            "0.9525\n",
            "\n",
            "\n",
            "Currently on step 700\n",
            "Accuracy is:\n",
            "0.9572\n",
            "\n",
            "\n",
            "Currently on step 800\n",
            "Accuracy is:\n",
            "0.9582\n",
            "\n",
            "\n",
            "Currently on step 900\n",
            "Accuracy is:\n",
            "0.9608\n",
            "\n",
            "\n",
            "Currently on step 1000\n",
            "Accuracy is:\n",
            "0.9659\n",
            "\n",
            "\n",
            "Currently on step 1100\n",
            "Accuracy is:\n",
            "0.9666\n",
            "\n",
            "\n",
            "Currently on step 1200\n",
            "Accuracy is:\n",
            "0.9676\n",
            "\n",
            "\n",
            "Currently on step 1300\n",
            "Accuracy is:\n",
            "0.9694\n",
            "\n",
            "\n",
            "Currently on step 1400\n",
            "Accuracy is:\n",
            "0.9716\n",
            "\n",
            "\n",
            "Currently on step 1500\n",
            "Accuracy is:\n",
            "0.9722\n",
            "\n",
            "\n",
            "Currently on step 1600\n",
            "Accuracy is:\n",
            "0.9737\n",
            "\n",
            "\n",
            "Currently on step 1700\n",
            "Accuracy is:\n",
            "0.9737\n",
            "\n",
            "\n",
            "Currently on step 1800\n",
            "Accuracy is:\n",
            "0.9748\n",
            "\n",
            "\n",
            "Currently on step 1900\n",
            "Accuracy is:\n",
            "0.974\n",
            "\n",
            "\n",
            "Currently on step 2000\n",
            "Accuracy is:\n",
            "0.9741\n",
            "\n",
            "\n",
            "Currently on step 2100\n",
            "Accuracy is:\n",
            "0.9746\n",
            "\n",
            "\n",
            "Currently on step 2200\n",
            "Accuracy is:\n",
            "0.9774\n",
            "\n",
            "\n",
            "Currently on step 2300\n",
            "Accuracy is:\n",
            "0.9763\n",
            "\n",
            "\n",
            "Currently on step 2400\n",
            "Accuracy is:\n",
            "0.9788\n",
            "\n",
            "\n",
            "Currently on step 2500\n",
            "Accuracy is:\n",
            "0.9794\n",
            "\n",
            "\n",
            "Currently on step 2600\n",
            "Accuracy is:\n",
            "0.9812\n",
            "\n",
            "\n",
            "Currently on step 2700\n",
            "Accuracy is:\n",
            "0.9805\n",
            "\n",
            "\n",
            "Currently on step 2800\n",
            "Accuracy is:\n",
            "0.9817\n",
            "\n",
            "\n",
            "Currently on step 2900\n",
            "Accuracy is:\n",
            "0.9806\n",
            "\n",
            "\n",
            "Currently on step 3000\n",
            "Accuracy is:\n",
            "0.9804\n",
            "\n",
            "\n",
            "Currently on step 3100\n",
            "Accuracy is:\n",
            "0.9822\n",
            "\n",
            "\n",
            "Currently on step 3200\n",
            "Accuracy is:\n",
            "0.9807\n",
            "\n",
            "\n",
            "Currently on step 3300\n",
            "Accuracy is:\n",
            "0.9816\n",
            "\n",
            "\n",
            "Currently on step 3400\n",
            "Accuracy is:\n",
            "0.9819\n",
            "\n",
            "\n",
            "Currently on step 3500\n",
            "Accuracy is:\n",
            "0.9823\n",
            "\n",
            "\n",
            "Currently on step 3600\n",
            "Accuracy is:\n",
            "0.9831\n",
            "\n",
            "\n",
            "Currently on step 3700\n",
            "Accuracy is:\n",
            "0.9832\n",
            "\n",
            "\n",
            "Currently on step 3800\n",
            "Accuracy is:\n",
            "0.9835\n",
            "\n",
            "\n",
            "Currently on step 3900\n",
            "Accuracy is:\n",
            "0.9827\n",
            "\n",
            "\n",
            "Currently on step 4000\n",
            "Accuracy is:\n",
            "0.9821\n",
            "\n",
            "\n",
            "Currently on step 4100\n",
            "Accuracy is:\n",
            "0.9829\n",
            "\n",
            "\n",
            "Currently on step 4200\n",
            "Accuracy is:\n",
            "0.9845\n",
            "\n",
            "\n",
            "Currently on step 4300\n",
            "Accuracy is:\n",
            "0.9834\n",
            "\n",
            "\n",
            "Currently on step 4400\n",
            "Accuracy is:\n",
            "0.9836\n",
            "\n",
            "\n",
            "Currently on step 4500\n",
            "Accuracy is:\n",
            "0.9854\n",
            "\n",
            "\n",
            "Currently on step 4600\n",
            "Accuracy is:\n",
            "0.9857\n",
            "\n",
            "\n",
            "Currently on step 4700\n",
            "Accuracy is:\n",
            "0.9858\n",
            "\n",
            "\n",
            "Currently on step 4800\n",
            "Accuracy is:\n",
            "0.9853\n",
            "\n",
            "\n",
            "Currently on step 4900\n",
            "Accuracy is:\n",
            "0.9838\n",
            "\n",
            "\n"
          ],
          "name": "stdout"
        }
      ]
    },
    {
      "cell_type": "code",
      "metadata": {
        "id": "fbslZSIC3JWe",
        "colab_type": "code",
        "colab": {}
      },
      "source": [
        ""
      ],
      "execution_count": 0,
      "outputs": []
    }
  ]
}